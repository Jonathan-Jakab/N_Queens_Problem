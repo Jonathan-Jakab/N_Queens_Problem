{
  "cells": [
    {
      "cell_type": "markdown",
      "metadata": {
        "id": "GxGA1SMjVOTm"
      },
      "source": [
        "## Project 4:  Solving N-Queens Problem using Genetic Algorithms\n",
        "\n",
        "#### CSC 180  Intelligent Systems\n",
        "\n",
        "#### Dr. Haiquan Chen, California State University, Sacramento\n"
      ]
    },
    {
      "cell_type": "code",
      "source": [
        "!pip install deap"
      ],
      "metadata": {
        "id": "Tki7stmqtDkl",
        "outputId": "2d8a28f4-0bc0-4ae2-c7b8-7c85369a618b",
        "colab": {
          "base_uri": "https://localhost:8080/"
        }
      },
      "execution_count": null,
      "outputs": [
        {
          "output_type": "stream",
          "name": "stdout",
          "text": [
            "Looking in indexes: https://pypi.org/simple, https://us-python.pkg.dev/colab-wheels/public/simple/\n",
            "Collecting deap\n",
            "  Downloading deap-1.3.3-cp37-cp37m-manylinux_2_5_x86_64.manylinux1_x86_64.manylinux_2_17_x86_64.manylinux2014_x86_64.whl (139 kB)\n",
            "\u001b[K     |████████████████████████████████| 139 kB 14.3 MB/s \n",
            "\u001b[?25hRequirement already satisfied: numpy in /usr/local/lib/python3.7/dist-packages (from deap) (1.21.6)\n",
            "Installing collected packages: deap\n",
            "Successfully installed deap-1.3.3\n"
          ]
        }
      ]
    },
    {
      "cell_type": "code",
      "execution_count": null,
      "metadata": {
        "id": "a7WiSZPHp8cj"
      },
      "outputs": [],
      "source": [
        "# Insert your name, your id, course title, assignment id, and due date here as comment \n",
        "\n",
        "# Jonathan Jakab : 301917863 \n",
        "# Jacob Hallum : 302382301 \n",
        "# Mahdi Noureddine : 219660208 \n",
        "\n",
        "# Professor Chen\n",
        "# CSC 180-1 - Intelligent Systems\n",
        "# Project 3: Computer Vision using GPU and Transfer Learning\n",
        "# 10/28/2022 10:00AM"
      ]
    },
    {
      "cell_type": "markdown",
      "metadata": {
        "id": "HibX8kusV5PD"
      },
      "source": [
        "\n",
        "## Part I: Position-index-based board representation"
      ]
    },
    {
      "cell_type": "code",
      "execution_count": null,
      "metadata": {
        "id": "LcEVm7paVOTo"
      },
      "outputs": [],
      "source": [
        "import random\n",
        "import numpy as np\n",
        "from deap import algorithms, base, creator, tools\n",
        "\n",
        "creator.create(\"FitnessMin\", base.Fitness, weights=(-1.0,))\n",
        "creator.create(\"Individual\", list, fitness=creator.FitnessMin)"
      ]
    },
    {
      "cell_type": "code",
      "execution_count": null,
      "metadata": {
        "id": "AjYwh9eYVOTt"
      },
      "outputs": [],
      "source": [
        "def create_individual():\n",
        "    return random.sample(range(64), 8)"
      ]
    },
    {
      "cell_type": "code",
      "execution_count": null,
      "metadata": {
        "id": "V3rgKtu_VOTv",
        "colab": {
          "base_uri": "https://localhost:8080/"
        },
        "outputId": "aaa0060a-a170-4a7d-93b0-699430882a3e"
      },
      "outputs": [
        {
          "output_type": "stream",
          "name": "stdout",
          "text": [
            "[43, 59, 4, 37, 15, 54, 44, 10]\n"
          ]
        }
      ],
      "source": [
        "print(create_individual())"
      ]
    },
    {
      "cell_type": "code",
      "execution_count": null,
      "metadata": {
        "id": "ekoiWdxDVOTy"
      },
      "outputs": [],
      "source": [
        "def show_grid(board):\n",
        "    \n",
        "    n = [0]*64\n",
        "    for i in board:\n",
        "        n[i] = 1\n",
        "    \n",
        "    \n",
        "    for i in range(8):\n",
        "        for j in range(64):\n",
        "            if j // 8 == i:\n",
        "                if n[j] == 1:\n",
        "                    print('X',end=\"|\")\n",
        "                else:\n",
        "                    print('-',end=\"|\")\n",
        "        print()\n",
        "        print(\"----------------\")\n"
      ]
    },
    {
      "cell_type": "code",
      "execution_count": null,
      "metadata": {
        "id": "N8XtgeUKVOT0"
      },
      "outputs": [],
      "source": [
        "toolbox = base.Toolbox()\n",
        "\n",
        "toolbox.register(\"individual\", tools.initIterate, creator.Individual, create_individual)\n",
        "\n",
        "toolbox.register(\"population\", tools.initRepeat, list, toolbox.individual)"
      ]
    },
    {
      "cell_type": "code",
      "execution_count": null,
      "metadata": {
        "id": "YTk0VOT-VOT3",
        "colab": {
          "base_uri": "https://localhost:8080/"
        },
        "outputId": "62009aed-f9f6-402e-f262-c1aa0835f229"
      },
      "outputs": [
        {
          "output_type": "stream",
          "name": "stdout",
          "text": [
            "[36, 42, 17, 12, 24, 50, 10, 11]\n"
          ]
        }
      ],
      "source": [
        "pop = toolbox.population(n=5)\n",
        "\n",
        "print(pop[0])"
      ]
    },
    {
      "cell_type": "code",
      "execution_count": null,
      "metadata": {
        "id": "letgI4JkVOT6",
        "colab": {
          "base_uri": "https://localhost:8080/"
        },
        "outputId": "bef49e79-99e2-4ea2-931f-226e00194fdd"
      },
      "outputs": [
        {
          "output_type": "stream",
          "name": "stdout",
          "text": [
            "-|-|-|-|-|-|-|-|\n",
            "----------------\n",
            "-|-|X|X|X|-|-|-|\n",
            "----------------\n",
            "-|X|-|-|-|-|-|-|\n",
            "----------------\n",
            "X|-|-|-|-|-|-|-|\n",
            "----------------\n",
            "-|-|-|-|X|-|-|-|\n",
            "----------------\n",
            "-|-|X|-|-|-|-|-|\n",
            "----------------\n",
            "-|-|X|-|-|-|-|-|\n",
            "----------------\n",
            "-|-|-|-|-|-|-|-|\n",
            "----------------\n"
          ]
        }
      ],
      "source": [
        "show_grid(pop[0])"
      ]
    },
    {
      "cell_type": "markdown",
      "metadata": {
        "id": "qzj4Y0L5VOT8"
      },
      "source": [
        "### 10 pts:  Write your code in the cell below to define the \"evaFitness\" function, which returns the fitness of any given board.  \n",
        "\n",
        "- Noticed that in this case, mutation may generate invalid board, e.g., the board with dupliciate positions.  Think about   [5, 32, 8, 8, 41, 3, 55, 49]\n",
        "\n",
        "- How to exclude those invalid boards from each generation? One way is to add some penalty to the fitness value of invalid boards.  In that case, any invalid board will have a very high fitness value (remember that our goal is to find the board with least fitness value).    To do that, let's write a function ***checkDuplicate()*** to calculate the number of queen pairs in the same position for any given board.   ***Give each duplicate a high penalty (i.e., multiply by 20, 50) and add the penalty to the fitness value.*** \n",
        "\n",
        "-  evaFitness() returns the total number of duplicate position pair (with penalty) plus the total number of distinct pairs of queens that attack each other.  "
      ]
    },
    {
      "cell_type": "code",
      "execution_count": null,
      "metadata": {
        "id": "ZTHRSMRMVOT8"
      },
      "outputs": [],
      "source": [
        "#fitness function\n",
        "def evaFitness(individual):\n",
        "    \n",
        "    conflict = 0\n",
        "\n",
        "    for i in range(len(individual)):\n",
        "      for j in individual[i+1:]: \n",
        "        if( (individual[i] % 8) == (j % 8) ):                         #Vertical check\n",
        "          conflict += 1;\n",
        "        elif ( individual[i] - (individual[i] % 8) == j - (j % 8) ):  #Horizontal Check\n",
        "          conflict += 1;\n",
        "        else:                                                         #Diagonal Check\n",
        "          distance = abs(j - individual[i])\n",
        "          verticalOffset = (j % 8) if j >= individual[i] else individual[i] % 8\n",
        "          verticalDistance = (distance - verticalOffset)//8 + 1\n",
        "          horizontalDistance = abs( (j % 8) - (individual[i] % 8))\n",
        "          if(horizontalDistance == verticalDistance):\n",
        "            conflict += 1; \n",
        "\n",
        "    return (checkDuplicate(individual) + conflict,)\n",
        "    \n",
        "    \n",
        "# Calculate the number of queen pairs in the same position for any given board\n",
        "def checkDuplicate(individual):\n",
        "\n",
        "    dup = 0\n",
        "\n",
        "    for i in range(len(individual)):\n",
        "      for j in individual[i+1:]:    \n",
        "        if individual[i] == j:\n",
        "          dup += 1;\n",
        "          break\n",
        "\n",
        "    return dup"
      ]
    },
    {
      "cell_type": "markdown",
      "metadata": {
        "id": "tikbcB_kVOT-"
      },
      "source": [
        "### 5 pts:  Writer your code in the cell below to register \"evaluate\" function to toolbox"
      ]
    },
    {
      "cell_type": "code",
      "source": [
        "toolbox.register(\"evaluate\", evaFitness)"
      ],
      "metadata": {
        "id": "7vdEX_hnkZBb"
      },
      "execution_count": null,
      "outputs": []
    },
    {
      "cell_type": "code",
      "execution_count": null,
      "metadata": {
        "id": "_eDjyzBlVOUB"
      },
      "outputs": [],
      "source": [
        "toolbox.register(\"mate\", tools.cxTwoPoint)\n",
        "\n",
        "toolbox.register(\"mutate\", tools.mutUniformInt, low = 0, up = 63, indpb=0.1)\n",
        "\n",
        "toolbox.register(\"select\", tools.selTournament, tournsize=3)"
      ]
    },
    {
      "cell_type": "code",
      "execution_count": null,
      "metadata": {
        "id": "6uej76HoVOUD"
      },
      "outputs": [],
      "source": [
        "stats = tools.Statistics(key=lambda ind: ind.fitness.values)"
      ]
    },
    {
      "cell_type": "code",
      "execution_count": null,
      "metadata": {
        "id": "W8cWVXmxVOUH"
      },
      "outputs": [],
      "source": [
        "stats.register(\"avg\", np.mean)\n",
        "stats.register(\"min\", np.min)"
      ]
    },
    {
      "cell_type": "markdown",
      "metadata": {
        "id": "OmnhqV_MVOUJ"
      },
      "source": [
        "### 10 pts:  Writer your code in the cell below to create the first generation, the hall of fame, and launch the genetic algorithm: eaSimple().   How many individuals you want to have for each generation and how many generations you want GA to go thourgh for each run?     Vary those two parameters to see the change. "
      ]
    },
    {
      "cell_type": "code",
      "execution_count": null,
      "metadata": {
        "id": "SsTaPuPgVOUK",
        "colab": {
          "base_uri": "https://localhost:8080/"
        },
        "outputId": "82a4b193-209d-4356-fe9d-7bf7c9423d4e"
      },
      "outputs": [
        {
          "output_type": "stream",
          "name": "stdout",
          "text": [
            "gen\tnevals\tavg \tmin\n",
            "0  \t100   \t9.95\t5  \n",
            "1  \t53    \t8.75\t4  \n",
            "2  \t56    \t8.09\t4  \n",
            "3  \t60    \t7.62\t4  \n",
            "4  \t58    \t6.84\t3  \n",
            "5  \t56    \t6.31\t3  \n",
            "6  \t66    \t6.51\t3  \n",
            "7  \t57    \t5.44\t3  \n",
            "8  \t57    \t4.98\t3  \n",
            "9  \t62    \t4.8 \t3  \n",
            "10 \t56    \t4.39\t3  \n",
            "gen\tnevals\tavg \tmin\n",
            "0  \t100   \t9.81\t4  \n",
            "1  \t68    \t8.79\t4  \n",
            "2  \t66    \t8.2 \t4  \n",
            "3  \t60    \t7.21\t3  \n",
            "4  \t51    \t5.84\t3  \n",
            "5  \t64    \t5.95\t3  \n",
            "6  \t52    \t5.26\t3  \n",
            "7  \t68    \t5.67\t3  \n",
            "8  \t52    \t4.72\t3  \n",
            "9  \t60    \t4.16\t3  \n",
            "10 \t52    \t3.66\t3  \n",
            "11 \t59    \t3.71\t3  \n",
            "12 \t70    \t3.5 \t3  \n",
            "13 \t62    \t3.24\t3  \n",
            "14 \t49    \t3.24\t3  \n",
            "15 \t59    \t3.16\t3  \n",
            "16 \t54    \t3.25\t3  \n",
            "17 \t65    \t3.33\t3  \n",
            "18 \t63    \t3.14\t3  \n",
            "19 \t62    \t3.13\t3  \n",
            "20 \t64    \t3.29\t3  \n",
            "21 \t60    \t3.46\t3  \n",
            "22 \t54    \t3.35\t3  \n",
            "23 \t61    \t3.36\t3  \n",
            "24 \t58    \t3.29\t3  \n",
            "25 \t58    \t3.28\t3  \n",
            "26 \t53    \t3.47\t3  \n",
            "27 \t57    \t3.24\t3  \n",
            "28 \t67    \t3.31\t3  \n",
            "29 \t57    \t3.29\t3  \n",
            "30 \t65    \t3.3 \t3  \n",
            "31 \t60    \t3.25\t3  \n",
            "32 \t56    \t3.2 \t3  \n",
            "33 \t52    \t3.21\t3  \n",
            "34 \t68    \t3.28\t3  \n",
            "35 \t62    \t3.21\t3  \n",
            "36 \t63    \t3.3 \t3  \n",
            "37 \t59    \t3.2 \t3  \n",
            "38 \t67    \t3.3 \t3  \n",
            "39 \t55    \t3.2 \t3  \n",
            "40 \t62    \t3.13\t3  \n",
            "41 \t49    \t3.22\t3  \n",
            "42 \t51    \t3.33\t3  \n",
            "43 \t65    \t3.17\t3  \n",
            "44 \t60    \t3.33\t3  \n",
            "45 \t60    \t3.23\t3  \n",
            "46 \t51    \t3.4 \t3  \n",
            "47 \t60    \t3.29\t3  \n",
            "48 \t59    \t3.25\t3  \n",
            "49 \t53    \t3.18\t3  \n",
            "50 \t53    \t3.32\t3  \n",
            "gen\tnevals\tavg  \tmin\n",
            "0  \t100   \t10.05\t4  \n",
            "1  \t58    \t8.76 \t5  \n",
            "2  \t67    \t8.19 \t5  \n",
            "3  \t64    \t7.48 \t5  \n",
            "4  \t61    \t7.23 \t5  \n",
            "5  \t61    \t6.9  \t4  \n",
            "6  \t67    \t6.53 \t2  \n",
            "7  \t67    \t6.48 \t2  \n",
            "8  \t47    \t5.44 \t2  \n",
            "9  \t61    \t4.77 \t2  \n",
            "10 \t55    \t3.71 \t2  \n",
            "11 \t70    \t3.31 \t2  \n",
            "12 \t47    \t2.51 \t2  \n",
            "13 \t53    \t2.33 \t2  \n",
            "14 \t46    \t2.43 \t2  \n",
            "15 \t60    \t2.53 \t2  \n",
            "16 \t70    \t2.54 \t2  \n",
            "17 \t65    \t2.32 \t2  \n",
            "18 \t57    \t2.31 \t2  \n",
            "19 \t61    \t2.27 \t2  \n",
            "20 \t72    \t2.3  \t2  \n",
            "21 \t54    \t2.32 \t2  \n",
            "22 \t62    \t2.5  \t2  \n",
            "23 \t55    \t2.38 \t1  \n",
            "24 \t66    \t2.29 \t1  \n",
            "25 \t56    \t2.26 \t1  \n",
            "26 \t54    \t1.97 \t1  \n",
            "27 \t54    \t1.46 \t1  \n",
            "28 \t54    \t1.31 \t1  \n",
            "29 \t62    \t1.21 \t1  \n",
            "30 \t51    \t1.28 \t1  \n",
            "31 \t65    \t1.31 \t1  \n",
            "32 \t67    \t1.3  \t1  \n",
            "33 \t61    \t1.46 \t1  \n",
            "34 \t68    \t1.45 \t1  \n",
            "35 \t63    \t1.49 \t1  \n",
            "36 \t68    \t1.53 \t1  \n",
            "37 \t57    \t1.23 \t1  \n",
            "38 \t64    \t1.2  \t1  \n",
            "39 \t63    \t1.35 \t1  \n",
            "40 \t61    \t1.46 \t1  \n",
            "41 \t47    \t1.3  \t1  \n",
            "42 \t59    \t1.48 \t1  \n",
            "43 \t57    \t1.26 \t1  \n",
            "44 \t60    \t1.19 \t1  \n",
            "45 \t65    \t1.22 \t1  \n",
            "46 \t67    \t1.46 \t1  \n",
            "47 \t62    \t1.3  \t1  \n",
            "48 \t57    \t1.29 \t1  \n",
            "49 \t50    \t1.3  \t1  \n",
            "50 \t61    \t1.36 \t1  \n",
            "51 \t59    \t1.39 \t1  \n",
            "52 \t68    \t1.43 \t1  \n",
            "53 \t57    \t1.48 \t1  \n",
            "54 \t67    \t1.38 \t1  \n",
            "55 \t63    \t1.31 \t1  \n",
            "56 \t65    \t1.53 \t1  \n",
            "57 \t53    \t1.5  \t1  \n",
            "58 \t55    \t1.48 \t1  \n",
            "59 \t64    \t1.36 \t1  \n",
            "60 \t61    \t1.56 \t1  \n",
            "61 \t55    \t1.28 \t1  \n",
            "62 \t60    \t1.3  \t1  \n",
            "63 \t65    \t1.44 \t1  \n",
            "64 \t61    \t1.42 \t1  \n",
            "65 \t55    \t1.38 \t1  \n",
            "66 \t61    \t1.33 \t1  \n",
            "67 \t61    \t1.31 \t1  \n",
            "68 \t59    \t1.35 \t1  \n",
            "69 \t57    \t1.4  \t1  \n",
            "70 \t58    \t1.37 \t1  \n",
            "71 \t57    \t1.53 \t1  \n",
            "72 \t70    \t1.35 \t1  \n",
            "73 \t67    \t1.36 \t1  \n",
            "74 \t61    \t1.42 \t1  \n",
            "75 \t61    \t1.46 \t1  \n",
            "76 \t66    \t1.37 \t1  \n",
            "77 \t55    \t1.36 \t1  \n",
            "78 \t58    \t1.31 \t1  \n",
            "79 \t50    \t1.74 \t1  \n",
            "80 \t65    \t1.42 \t1  \n",
            "81 \t64    \t1.27 \t1  \n",
            "82 \t57    \t1.4  \t1  \n",
            "83 \t57    \t1.34 \t1  \n",
            "84 \t57    \t1.26 \t1  \n",
            "85 \t52    \t1.26 \t1  \n",
            "86 \t53    \t1.25 \t1  \n",
            "87 \t48    \t1.27 \t1  \n",
            "88 \t58    \t1.3  \t1  \n",
            "89 \t65    \t1.37 \t1  \n",
            "90 \t58    \t1.22 \t1  \n",
            "91 \t78    \t1.11 \t1  \n",
            "92 \t43    \t1.26 \t1  \n",
            "93 \t61    \t1.28 \t1  \n",
            "94 \t63    \t1.28 \t1  \n",
            "95 \t66    \t1.41 \t1  \n",
            "96 \t65    \t1.55 \t1  \n",
            "97 \t66    \t1.41 \t1  \n",
            "98 \t65    \t1.4  \t1  \n",
            "99 \t63    \t1.64 \t1  \n",
            "100\t59    \t1.24 \t1  \n",
            "gen\tnevals\tavg \tmin\n",
            "0  \t500   \t9.87\t5  \n",
            "1  \t288   \t8.758\t5  \n",
            "2  \t285   \t7.918\t4  \n",
            "3  \t284   \t7.41 \t3  \n",
            "4  \t300   \t6.984\t3  \n",
            "5  \t315   \t6.716\t3  \n",
            "6  \t300   \t6.422\t3  \n",
            "7  \t298   \t6.092\t3  \n",
            "8  \t307   \t5.654\t2  \n",
            "9  \t323   \t5.34 \t2  \n",
            "10 \t305   \t4.794\t2  \n",
            "gen\tnevals\tavg   \tmin\n",
            "0  \t500   \t10.216\t5  \n",
            "1  \t286   \t8.872 \t4  \n",
            "2  \t297   \t7.968 \t3  \n",
            "3  \t325   \t7.536 \t3  \n",
            "4  \t275   \t7.02  \t3  \n",
            "5  \t289   \t6.706 \t3  \n",
            "6  \t308   \t6.474 \t3  \n",
            "7  \t312   \t6.194 \t2  \n",
            "8  \t314   \t6.168 \t2  \n",
            "9  \t294   \t5.876 \t2  \n",
            "10 \t300   \t5.536 \t2  \n",
            "11 \t300   \t5.232 \t2  \n",
            "12 \t313   \t5.004 \t1  \n",
            "13 \t284   \t4.678 \t2  \n",
            "14 \t307   \t4.58  \t1  \n",
            "15 \t301   \t4.238 \t1  \n",
            "16 \t304   \t4.054 \t1  \n",
            "17 \t328   \t3.554 \t1  \n",
            "18 \t302   \t2.948 \t1  \n",
            "19 \t291   \t2.49  \t1  \n",
            "20 \t297   \t2.018 \t1  \n",
            "21 \t269   \t1.728 \t1  \n",
            "22 \t293   \t1.546 \t1  \n",
            "23 \t309   \t1.53  \t1  \n",
            "24 \t300   \t1.484 \t1  \n",
            "25 \t303   \t1.532 \t1  \n",
            "26 \t280   \t1.416 \t1  \n",
            "27 \t309   \t1.444 \t1  \n",
            "28 \t286   \t1.53  \t1  \n",
            "29 \t303   \t1.458 \t0  \n",
            "30 \t304   \t1.34  \t0  \n",
            "31 \t309   \t1.392 \t0  \n",
            "32 \t293   \t1.422 \t0  \n",
            "33 \t291   \t1.318 \t0  \n",
            "34 \t287   \t1.056 \t0  \n",
            "35 \t307   \t0.768 \t0  \n",
            "36 \t298   \t0.518 \t0  \n",
            "37 \t322   \t0.432 \t0  \n",
            "38 \t306   \t0.528 \t0  \n",
            "39 \t306   \t0.46  \t0  \n",
            "40 \t295   \t0.476 \t0  \n",
            "41 \t278   \t0.414 \t0  \n",
            "42 \t307   \t0.472 \t0  \n",
            "43 \t314   \t0.44  \t0  \n",
            "44 \t281   \t0.372 \t0  \n",
            "45 \t309   \t0.374 \t0  \n",
            "46 \t277   \t0.384 \t0  \n",
            "47 \t289   \t0.35  \t0  \n",
            "48 \t299   \t0.336 \t0  \n",
            "49 \t291   \t0.394 \t0  \n",
            "50 \t280   \t0.348 \t0  \n",
            "gen\tnevals\tavg  \tmin\n",
            "0  \t500   \t9.978\t4  \n",
            "1  \t310   \t8.644\t4  \n",
            "2  \t292   \t7.734\t4  \n",
            "3  \t294   \t7.31 \t4  \n",
            "4  \t296   \t7.044\t3  \n",
            "5  \t303   \t6.702\t3  \n",
            "6  \t318   \t6.488\t3  \n",
            "7  \t311   \t6.31 \t3  \n",
            "8  \t315   \t6.146\t3  \n",
            "9  \t302   \t5.842\t2  \n",
            "10 \t301   \t5.642\t2  \n",
            "11 \t275   \t5.32 \t2  \n",
            "12 \t289   \t5.034\t2  \n",
            "13 \t306   \t4.908\t2  \n",
            "14 \t286   \t4.524\t2  \n",
            "15 \t299   \t4.162\t2  \n",
            "16 \t303   \t3.628\t2  \n",
            "17 \t305   \t2.848\t2  \n",
            "18 \t298   \t2.482\t1  \n",
            "19 \t299   \t2.356\t1  \n",
            "20 \t281   \t2.26 \t1  \n",
            "21 \t294   \t2.206\t1  \n",
            "22 \t295   \t2.028\t1  \n",
            "23 \t281   \t1.72 \t1  \n",
            "24 \t304   \t1.59 \t1  \n",
            "25 \t302   \t1.58 \t1  \n",
            "26 \t302   \t1.464\t1  \n",
            "27 \t310   \t1.542\t1  \n",
            "28 \t306   \t1.484\t1  \n",
            "29 \t296   \t1.5  \t1  \n",
            "30 \t306   \t1.496\t1  \n",
            "31 \t295   \t1.414\t1  \n",
            "32 \t303   \t1.496\t1  \n",
            "33 \t320   \t1.492\t1  \n",
            "34 \t283   \t1.428\t1  \n",
            "35 \t292   \t1.408\t1  \n",
            "36 \t299   \t1.502\t1  \n",
            "37 \t305   \t1.536\t1  \n",
            "38 \t297   \t1.44 \t1  \n",
            "39 \t314   \t1.444\t1  \n",
            "40 \t287   \t1.456\t1  \n",
            "41 \t290   \t1.296\t1  \n",
            "42 \t313   \t1.43 \t1  \n",
            "43 \t272   \t1.408\t1  \n",
            "44 \t292   \t1.322\t1  \n",
            "45 \t288   \t1.328\t1  \n",
            "46 \t310   \t1.442\t1  \n",
            "47 \t271   \t1.32 \t1  \n",
            "48 \t308   \t1.45 \t1  \n",
            "49 \t297   \t1.376\t1  \n",
            "50 \t325   \t1.454\t1  \n",
            "51 \t310   \t1.462\t1  \n",
            "52 \t283   \t1.34 \t1  \n",
            "53 \t303   \t1.302\t1  \n",
            "54 \t295   \t1.392\t1  \n",
            "55 \t269   \t1.466\t1  \n",
            "56 \t304   \t1.4  \t1  \n",
            "57 \t334   \t1.434\t1  \n",
            "58 \t288   \t1.406\t1  \n",
            "59 \t302   \t1.332\t1  \n",
            "60 \t280   \t1.358\t1  \n",
            "61 \t304   \t1.34 \t1  \n",
            "62 \t329   \t1.408\t1  \n",
            "63 \t267   \t1.322\t1  \n",
            "64 \t312   \t1.432\t1  \n",
            "65 \t303   \t1.344\t1  \n",
            "66 \t295   \t1.428\t1  \n",
            "67 \t290   \t1.402\t1  \n",
            "68 \t286   \t1.394\t1  \n",
            "69 \t305   \t1.418\t1  \n",
            "70 \t284   \t1.32 \t1  \n",
            "71 \t288   \t1.424\t1  \n",
            "72 \t296   \t1.376\t1  \n",
            "73 \t326   \t1.376\t1  \n",
            "74 \t297   \t1.35 \t1  \n",
            "75 \t319   \t1.346\t1  \n",
            "76 \t299   \t1.444\t1  \n",
            "77 \t275   \t1.386\t1  \n",
            "78 \t291   \t1.382\t1  \n",
            "79 \t314   \t1.394\t1  \n",
            "80 \t295   \t1.378\t1  \n",
            "81 \t314   \t1.416\t1  \n",
            "82 \t324   \t1.354\t1  \n",
            "83 \t285   \t1.452\t1  \n",
            "84 \t313   \t1.422\t1  \n",
            "85 \t336   \t1.402\t1  \n",
            "86 \t306   \t1.374\t1  \n",
            "87 \t301   \t1.346\t1  \n",
            "88 \t308   \t1.472\t1  \n",
            "89 \t263   \t1.426\t1  \n",
            "90 \t293   \t1.54 \t1  \n",
            "91 \t289   \t1.316\t1  \n",
            "92 \t299   \t1.318\t1  \n",
            "93 \t290   \t1.268\t1  \n",
            "94 \t282   \t1.36 \t1  \n",
            "95 \t291   \t1.348\t1  \n",
            "96 \t303   \t1.36 \t1  \n",
            "97 \t305   \t1.356\t1  \n",
            "98 \t315   \t1.398\t1  \n",
            "99 \t325   \t1.402\t1  \n",
            "100\t317   \t1.446\t1  \n",
            "gen\tnevals\tavg   \tmin\n",
            "0  \t1000  \t10.194\t5  \n",
            "1  \t581   \t8.877 \t4  \n",
            "2  \t622   \t7.986 \t3  \n",
            "3  \t609   \t7.443 \t3  \n",
            "4  \t601   \t7.126 \t3  \n",
            "5  \t574   \t6.704 \t3  \n",
            "6  \t614   \t6.443 \t3  \n",
            "7  \t622   \t6.329 \t3  \n",
            "8  \t578   \t6.156 \t3  \n",
            "9  \t637   \t6.199 \t3  \n",
            "10 \t591   \t5.957 \t2  \n",
            "gen\tnevals\tavg   \tmin\n",
            "0  \t1000  \t10.088\t4  \n",
            "1  \t570   \t8.775 \t3  \n",
            "2  \t615   \t8.006 \t3  \n",
            "3  \t587   \t7.387 \t3  \n",
            "4  \t599   \t7.082 \t3  \n",
            "5  \t615   \t6.717 \t3  \n",
            "6  \t581   \t6.366 \t3  \n",
            "7  \t595   \t6.16  \t2  \n",
            "8  \t608   \t5.911 \t1  \n",
            "9  \t597   \t5.594 \t1  \n",
            "10 \t601   \t5.306 \t1  \n",
            "11 \t612   \t5.282 \t1  \n",
            "12 \t567   \t4.828 \t1  \n",
            "13 \t602   \t4.674 \t1  \n",
            "14 \t600   \t4.155 \t1  \n",
            "15 \t596   \t3.837 \t1  \n",
            "16 \t627   \t3.471 \t1  \n",
            "17 \t558   \t3.042 \t1  \n",
            "18 \t577   \t2.642 \t1  \n",
            "19 \t605   \t2.361 \t1  \n",
            "20 \t609   \t2.158 \t1  \n",
            "21 \t592   \t2.015 \t1  \n",
            "22 \t606   \t2.07  \t1  \n",
            "23 \t609   \t2.055 \t1  \n",
            "24 \t577   \t1.932 \t1  \n",
            "25 \t605   \t2.043 \t1  \n",
            "26 \t600   \t1.918 \t1  \n",
            "27 \t600   \t1.839 \t1  \n",
            "28 \t609   \t1.778 \t1  \n",
            "29 \t569   \t1.671 \t1  \n",
            "30 \t588   \t1.651 \t1  \n",
            "31 \t584   \t1.494 \t1  \n",
            "32 \t601   \t1.48  \t1  \n",
            "33 \t548   \t1.397 \t1  \n",
            "34 \t555   \t1.357 \t1  \n",
            "35 \t571   \t1.363 \t1  \n",
            "36 \t588   \t1.416 \t1  \n",
            "37 \t587   \t1.369 \t1  \n",
            "38 \t608   \t1.372 \t1  \n",
            "39 \t598   \t1.418 \t1  \n",
            "40 \t581   \t1.349 \t1  \n",
            "41 \t624   \t1.408 \t1  \n",
            "42 \t630   \t1.416 \t1  \n",
            "43 \t579   \t1.429 \t1  \n",
            "44 \t590   \t1.398 \t1  \n",
            "45 \t602   \t1.439 \t1  \n",
            "46 \t615   \t1.428 \t1  \n",
            "47 \t617   \t1.311 \t1  \n",
            "48 \t593   \t1.363 \t1  \n",
            "49 \t592   \t1.405 \t1  \n",
            "50 \t593   \t1.426 \t1  \n",
            "gen\tnevals\tavg   \tmin\n",
            "0  \t1000  \t10.111\t4  \n",
            "1  \t598   \t8.918 \t3  \n",
            "2  \t576   \t8.05  \t3  \n",
            "3  \t597   \t7.521 \t3  \n",
            "4  \t577   \t7.08  \t3  \n",
            "5  \t607   \t6.716 \t3  \n",
            "6  \t574   \t6.407 \t3  \n",
            "7  \t589   \t6.119 \t3  \n",
            "8  \t617   \t5.99  \t2  \n",
            "9  \t638   \t5.97  \t2  \n",
            "10 \t577   \t5.582 \t2  \n",
            "11 \t604   \t5.555 \t2  \n",
            "12 \t622   \t5.223 \t2  \n",
            "13 \t571   \t4.873 \t2  \n",
            "14 \t605   \t4.82  \t2  \n",
            "15 \t579   \t4.601 \t2  \n",
            "16 \t593   \t4.42  \t2  \n",
            "17 \t587   \t4.209 \t2  \n",
            "18 \t603   \t4.223 \t2  \n",
            "19 \t631   \t4.117 \t2  \n",
            "20 \t584   \t3.731 \t2  \n",
            "21 \t623   \t3.4   \t2  \n",
            "22 \t623   \t3.185 \t2  \n",
            "23 \t625   \t2.836 \t2  \n",
            "24 \t628   \t2.679 \t2  \n",
            "25 \t595   \t2.497 \t2  \n",
            "26 \t564   \t2.446 \t0  \n",
            "27 \t604   \t2.392 \t0  \n",
            "28 \t609   \t2.383 \t0  \n",
            "29 \t623   \t2.333 \t0  \n",
            "30 \t561   \t2.246 \t0  \n",
            "31 \t555   \t2.092 \t0  \n",
            "32 \t594   \t1.817 \t0  \n",
            "33 \t592   \t1.249 \t0  \n",
            "34 \t614   \t0.616 \t0  \n",
            "35 \t606   \t0.386 \t0  \n",
            "36 \t601   \t0.353 \t0  \n",
            "37 \t595   \t0.356 \t0  \n",
            "38 \t615   \t0.481 \t0  \n",
            "39 \t639   \t0.454 \t0  \n",
            "40 \t625   \t0.359 \t0  \n",
            "41 \t631   \t0.491 \t0  \n",
            "42 \t601   \t0.435 \t0  \n",
            "43 \t617   \t0.401 \t0  \n",
            "44 \t595   \t0.475 \t0  \n",
            "45 \t621   \t0.417 \t0  \n",
            "46 \t610   \t0.464 \t0  \n",
            "47 \t602   \t0.426 \t0  \n",
            "48 \t614   \t0.419 \t0  \n",
            "49 \t626   \t0.42  \t0  \n",
            "50 \t597   \t0.402 \t0  \n",
            "51 \t600   \t0.406 \t0  \n",
            "52 \t580   \t0.43  \t0  \n",
            "53 \t561   \t0.413 \t0  \n",
            "54 \t625   \t0.38  \t0  \n",
            "55 \t586   \t0.41  \t0  \n",
            "56 \t597   \t0.421 \t0  \n",
            "57 \t621   \t0.403 \t0  \n",
            "58 \t585   \t0.382 \t0  \n",
            "59 \t625   \t0.401 \t0  \n",
            "60 \t537   \t0.339 \t0  \n",
            "61 \t603   \t0.413 \t0  \n",
            "62 \t595   \t0.356 \t0  \n",
            "63 \t604   \t0.403 \t0  \n",
            "64 \t625   \t0.419 \t0  \n",
            "65 \t574   \t0.403 \t0  \n",
            "66 \t625   \t0.453 \t0  \n",
            "67 \t599   \t0.457 \t0  \n",
            "68 \t633   \t0.411 \t0  \n",
            "69 \t597   \t0.395 \t0  \n",
            "70 \t587   \t0.456 \t0  \n",
            "71 \t595   \t0.431 \t0  \n",
            "72 \t589   \t0.418 \t0  \n",
            "73 \t626   \t0.42  \t0  \n",
            "74 \t617   \t0.422 \t0  \n",
            "75 \t603   \t0.417 \t0  \n",
            "76 \t588   \t0.374 \t0  \n",
            "77 \t600   \t0.458 \t0  \n",
            "78 \t562   \t0.4   \t0  \n",
            "79 \t603   \t0.385 \t0  \n",
            "80 \t616   \t0.478 \t0  \n",
            "81 \t580   \t0.444 \t0  \n",
            "82 \t600   \t0.454 \t0  \n",
            "83 \t619   \t0.394 \t0  \n",
            "84 \t598   \t0.435 \t0  \n",
            "85 \t626   \t0.415 \t0  \n",
            "86 \t583   \t0.406 \t0  \n",
            "87 \t613   \t0.343 \t0  \n",
            "88 \t613   \t0.405 \t0  \n",
            "89 \t594   \t0.4   \t0  \n",
            "90 \t566   \t0.429 \t0  \n",
            "91 \t553   \t0.372 \t0  \n",
            "92 \t612   \t0.393 \t0  \n",
            "93 \t639   \t0.444 \t0  \n",
            "94 \t543   \t0.387 \t0  \n",
            "95 \t575   \t0.375 \t0  \n",
            "96 \t587   \t0.4   \t0  \n",
            "97 \t619   \t0.42  \t0  \n",
            "98 \t602   \t0.371 \t0  \n",
            "99 \t606   \t0.412 \t0  \n",
            "100\t608   \t0.461 \t0  \n"
          ]
        }
      ],
      "source": [
        "#Defining Parameters\n",
        "# n = 50          #number of nevals. (nevals: the number of evalutions for each generation)\n",
        "# ngen = 10       #number of generations accomplished\n",
        "# maxsize = 1     #maximum hall of fame size\n",
        "\n",
        "nList = [100, 500, 1000]      #number of generations/neavels\n",
        "ngenList = [10, 50, 100]   #number of generations that GA will go through.\n",
        "                #cxpb: a probability of cross-overing two individuals\n",
        "                #mutpb: a probability of mutating each individual\n",
        "\n",
        "def GA(n, ngen):\n",
        "  pop = toolbox.population(n)\n",
        "  hof = tools.HallOfFame(maxsize=1)\n",
        "  pop, log = algorithms.eaSimple(pop, toolbox, cxpb=0.5, mutpb=0.2, ngen=ngen, \n",
        "                                    stats=stats, halloffame=hof, verbose=True)\n",
        "  return pop, log\n",
        "\n",
        "results = []\n",
        "for n in nList:\n",
        "  for ngen in ngenList:\n",
        "    pop, log = GA(n, ngen)\n",
        "    results.append([pop, log, n, ngen])"
      ]
    },
    {
      "cell_type": "markdown",
      "metadata": {
        "id": "OkApdsjQVOUL"
      },
      "source": [
        "### 5 pts:  Plot the \"avg\" and \"min\" for each generation"
      ]
    },
    {
      "cell_type": "code",
      "execution_count": null,
      "metadata": {
        "id": "gcFc3eOyVOUM",
        "scrolled": true,
        "colab": {
          "base_uri": "https://localhost:8080/",
          "height": 1000
        },
        "outputId": "2fbabebb-551f-4c80-d76a-016ead11c6fb"
      },
      "outputs": [
        {
          "output_type": "display_data",
          "data": {
            "text/plain": [
              "<Figure size 432x288 with 1 Axes>"
            ],
            "image/png": "[encoded data removed]"
          },
          "metadata": {
            "needs_background": "light"
          }
        },
        {
          "output_type": "display_data",
          "data": {
            "text/plain": [
              "<Figure size 432x288 with 1 Axes>"
            ],
            "image/png": "[encoded data removed]"
          },
          "metadata": {
            "needs_background": "light"
          }
        },
        {
          "output_type": "display_data",
          "data": {
            "text/plain": [
              "<Figure size 432x288 with 1 Axes>"
            ],
            "image/png": "[encoded data removed]"
          },
          "metadata": {
            "needs_background": "light"
          }
        },
        {
          "output_type": "display_data",
          "data": {
            "text/plain": [
              "<Figure size 432x288 with 1 Axes>"
            ],
            "image/png": "[encoded data removed]"
          },
          "metadata": {
            "needs_background": "light"
          }
        },
        {
          "output_type": "display_data",
          "data": {
            "text/plain": [
              "<Figure size 432x288 with 1 Axes>"
            ],
            "image/png": "[encoded data removed]"
          },
          "metadata": {
            "needs_background": "light"
          }
        },
        {
          "output_type": "display_data",
          "data": {
            "text/plain": [
              "<Figure size 432x288 with 1 Axes>"
            ],
            "image/png": "[encoded data removed]"
          },
          "metadata": {
            "needs_background": "light"
          }
        },
        {
          "output_type": "display_data",
          "data": {
            "text/plain": [
              "<Figure size 432x288 with 1 Axes>"
            ],
            "image/png": "[encoded data removed]"
          },
          "metadata": {
            "needs_background": "light"
          }
        },
        {
          "output_type": "display_data",
          "data": {
            "text/plain": [
              "<Figure size 432x288 with 1 Axes>"
            ],
            "image/png": "[encoded data removed]"
          },
          "metadata": {
            "needs_background": "light"
          }
        },
        {
          "output_type": "display_data",
          "data": {
            "text/plain": [
              "<Figure size 432x288 with 1 Axes>"
            ],
            "image/png": "[encoded data removed]"
          },
          "metadata": {
            "needs_background": "light"
          }
        }
      ],
      "source": [
        "# Plot the \"avg\" and \"min\" for each generation\n",
        "\n",
        "import matplotlib.pyplot as plt\n",
        "%matplotlib inline  \n",
        "\n",
        "def plotResults(log, n, ngen):\n",
        "  gen, avg, min_, max_ = log.select(\"gen\", \"avg\", \"min\", \"max\")\n",
        "\n",
        "  plt.plot(gen, avg, label=\"average\")\n",
        "  plt.plot(gen, min_, label=\"minimum\")\n",
        "  plt.plot(gen, max_, label=\"maximum\")\n",
        "  plt.xlabel(\"Generation\")\n",
        "  plt.ylabel(\"Fitness\")\n",
        "  plt.legend(loc=\"lower right\")\n",
        "  plt.show()\n",
        "\n",
        "for result in results:\n",
        "  plotResults(result[1], result[2], result[3])"
      ]
    },
    {
      "cell_type": "markdown",
      "metadata": {
        "id": "t6PFTvUZVOUN"
      },
      "source": [
        "### 5 pts:  Print out the best individual found and its fitness value.  Show the best individual as chessboard"
      ]
    },
    {
      "cell_type": "code",
      "execution_count": null,
      "metadata": {
        "id": "-MeBQ0BZVOUO",
        "colab": {
          "base_uri": "https://localhost:8080/"
        },
        "outputId": "73a0a04c-f2f6-4839-a59a-d737130c6c18"
      },
      "outputs": [
        {
          "output_type": "stream",
          "name": "stdout",
          "text": [
            "-|X|-|-|-|-|-|-|\n",
            "----------------\n",
            "-|-|-|-|-|-|X|-|\n",
            "----------------\n",
            "-|-|X|-|-|-|-|-|\n",
            "----------------\n",
            "-|-|-|-|-|X|-|-|\n",
            "----------------\n",
            "-|-|-|-|-|-|-|X|\n",
            "----------------\n",
            "-|-|-|-|X|-|-|-|\n",
            "----------------\n",
            "X|-|-|-|-|-|-|-|\n",
            "----------------\n",
            "-|-|-|X|-|-|-|-|\n",
            "----------------\n",
            "Fitness Value:  (0,)\n"
          ]
        }
      ],
      "source": [
        "bestIndividual = tools.selBest(pop, k=1)[0]\n",
        "show_grid(bestIndividual)\n",
        "print(\"Fitness Value: \", toolbox.evaluate(bestIndividual))"
      ]
    },
    {
      "cell_type": "markdown",
      "metadata": {
        "id": "_PCJJdWAVOUP"
      },
      "source": [
        "## Part II: Row-index-based board representation"
      ]
    },
    {
      "cell_type": "code",
      "execution_count": null,
      "metadata": {
        "id": "BF0R7swEVOUQ",
        "colab": {
          "base_uri": "https://localhost:8080/"
        },
        "outputId": "f7299a14-7432-475e-bcd9-8d67752fb9a6"
      },
      "outputs": [
        {
          "output_type": "stream",
          "name": "stderr",
          "text": [
            "/usr/local/lib/python3.7/dist-packages/deap/creator.py:141: RuntimeWarning: A class named 'FitnessMin' has already been created and it will be overwritten. Consider deleting previous creation of that class or rename it.\n",
            "  RuntimeWarning)\n",
            "/usr/local/lib/python3.7/dist-packages/deap/creator.py:141: RuntimeWarning: A class named 'Individual' has already been created and it will be overwritten. Consider deleting previous creation of that class or rename it.\n",
            "  RuntimeWarning)\n"
          ]
        }
      ],
      "source": [
        "import random\n",
        "import numpy as np\n",
        "from deap import algorithms, base, creator, tools\n",
        "\n",
        "creator.create(\"FitnessMin\", base.Fitness, weights=(-1.0,))\n",
        "creator.create(\"Individual\", list, fitness=creator.FitnessMin)"
      ]
    },
    {
      "cell_type": "markdown",
      "metadata": {
        "id": "YCwVbnHrVOUS"
      },
      "source": [
        "Each row of the chess row is indexed from 0->7 . we place different queens on different rows initially.  The sequence [ a b c d .... ] means that in $0^{th}$ row, $a^{th}$ column, the queen is present and so on"
      ]
    },
    {
      "cell_type": "code",
      "execution_count": null,
      "metadata": {
        "id": "n4II9oePVOUS"
      },
      "outputs": [],
      "source": [
        "toolbox = base.Toolbox()\n",
        "\n",
        "toolbox.register(\"attr_int\", random.randint, 0, 7)\n",
        "toolbox.register(\"individual\", tools.initRepeat, creator.Individual,\n",
        "                 toolbox.attr_int, n=8)"
      ]
    },
    {
      "cell_type": "code",
      "execution_count": null,
      "metadata": {
        "id": "W-tn8be2VOUU",
        "colab": {
          "base_uri": "https://localhost:8080/"
        },
        "outputId": "1073796c-e0c5-4a2a-9214-6e87afddd581"
      },
      "outputs": [
        {
          "output_type": "execute_result",
          "data": {
            "text/plain": [
              "[7, 1, 1, 5, 5, 2, 1, 0]"
            ]
          },
          "metadata": {},
          "execution_count": 20
        }
      ],
      "source": [
        "toolbox.individual()"
      ]
    },
    {
      "cell_type": "code",
      "execution_count": null,
      "metadata": {
        "id": "97EqErd3VOUX"
      },
      "outputs": [],
      "source": [
        "def show_grid(board):\n",
        "    \n",
        "    n = [0]*64\n",
        "    \n",
        "    for i in range(len(board)):\n",
        "        n[board[i] + i*8] = 1\n",
        "      \n",
        "    for i in range(8):\n",
        "        for j in range(64):\n",
        "            if j // 8 == i:\n",
        "                if n[j] == 1:\n",
        "                    print('X',end=\"|\")\n",
        "                else:\n",
        "                    print('-',end=\"|\")\n",
        "        print()\n",
        "        print(\"----------------\")"
      ]
    },
    {
      "cell_type": "code",
      "execution_count": null,
      "metadata": {
        "id": "UxkDfoxbVOUb"
      },
      "outputs": [],
      "source": [
        "toolbox.register(\"population\", tools.initRepeat, list, toolbox.individual)"
      ]
    },
    {
      "cell_type": "code",
      "execution_count": null,
      "metadata": {
        "id": "lcY06x24VOUe",
        "colab": {
          "base_uri": "https://localhost:8080/"
        },
        "outputId": "28261a45-516f-4536-848c-342856f250d3"
      },
      "outputs": [
        {
          "output_type": "stream",
          "name": "stdout",
          "text": [
            "[1, 6, 0, 6, 5, 0, 5, 7]\n"
          ]
        }
      ],
      "source": [
        "pop = toolbox.population(n=5)\n",
        "\n",
        "print(pop[0])"
      ]
    },
    {
      "cell_type": "code",
      "execution_count": null,
      "metadata": {
        "id": "KYoqKKm8VOUg",
        "colab": {
          "base_uri": "https://localhost:8080/"
        },
        "outputId": "dd1d8d2f-236e-4a6d-f655-0e985a1cf876"
      },
      "outputs": [
        {
          "output_type": "stream",
          "name": "stdout",
          "text": [
            "-|X|-|-|-|-|-|-|\n",
            "----------------\n",
            "-|-|-|-|-|-|X|-|\n",
            "----------------\n",
            "X|-|-|-|-|-|-|-|\n",
            "----------------\n",
            "-|-|-|-|-|-|X|-|\n",
            "----------------\n",
            "-|-|-|-|-|X|-|-|\n",
            "----------------\n",
            "X|-|-|-|-|-|-|-|\n",
            "----------------\n",
            "-|-|-|-|-|X|-|-|\n",
            "----------------\n",
            "-|-|-|-|-|-|-|X|\n",
            "----------------\n"
          ]
        }
      ],
      "source": [
        "show_grid(pop[0])"
      ]
    },
    {
      "cell_type": "markdown",
      "metadata": {
        "id": "6_wZvS3mVOUh"
      },
      "source": [
        "### 10 pts:  Write your code in the cell below to define the \"evaFitness\" function, which return the fitness of any given board\n",
        "\n",
        "- evaFitness() returns the total number of distinct pairs of queens that attack each other.  \n",
        "\n",
        "- The following are some test cases you may use to verify the correctness of the evaFitness() function:\n",
        "\n",
        " * evaFitness([0, 2, 6, 7, 7, 4, 1, 6]) should return (4,)\n",
        "\n",
        " * evaFitness([7, 5, 2, 4, 3, 1, 3, 5]) should return (6,)\n",
        "\n",
        " * evaFitness([3, 1, 6, 0, 5, 7, 2, 1]) should return (5,)\n",
        "\n",
        " * evaFitness([7, 3, 1, 4, 5, 1, 3, 5]) should return (6,)\n",
        "\n"
      ]
    },
    {
      "cell_type": "code",
      "execution_count": null,
      "metadata": {
        "id": "bk1Rn57oVOUi"
      },
      "outputs": [],
      "source": [
        "#fitness function\n",
        "def evaFitness(individual):\n",
        "\n",
        "    conflict = 0\n",
        "\n",
        "    for row in range(len(individual)):\n",
        "      for col in range(row + 1, len(individual)):    \n",
        "        if individual[row] == individual[col]:\n",
        "          conflict += 1;\n",
        "        if(abs(individual[row] - individual[col]) == abs(row - col)):\n",
        "          conflict += 1;\n",
        "\n",
        "    return (conflict,)"
      ]
    },
    {
      "cell_type": "code",
      "source": [
        "#Used to test if the results were accurate. Values were provided above.\n",
        "print(evaFitness([0, 2, 6, 7, 7, 4, 1, 6])) #should return (4,)\n",
        "print(evaFitness([7, 5, 2, 4, 3, 1, 3, 5])) #should return (6,)\n",
        "print(evaFitness([3, 1, 6, 0, 5, 7, 2, 1])) #should return (5,)\n",
        "print(evaFitness([7, 3, 1, 4, 5, 1, 3, 5])) #should return (6,)"
      ],
      "metadata": {
        "colab": {
          "base_uri": "https://localhost:8080/"
        },
        "id": "G244tT1t3w9C",
        "outputId": "1605326b-0ed8-4667-af9b-19065147e790"
      },
      "execution_count": null,
      "outputs": [
        {
          "output_type": "stream",
          "name": "stdout",
          "text": [
            "(4,)\n",
            "(6,)\n",
            "(5,)\n",
            "(6,)\n"
          ]
        }
      ]
    },
    {
      "cell_type": "markdown",
      "metadata": {
        "id": "MLkixA1YVOUj"
      },
      "source": [
        "### 5 pts:  Writer your code in the cell below to register \"evaluate\" function to toolbox"
      ]
    },
    {
      "cell_type": "code",
      "execution_count": null,
      "metadata": {
        "id": "TMwldAeuVOUk"
      },
      "outputs": [],
      "source": [
        "toolbox.register(\"evaluate\", evaFitness)"
      ]
    },
    {
      "cell_type": "code",
      "execution_count": null,
      "metadata": {
        "id": "O-xOKMI4VOUl"
      },
      "outputs": [],
      "source": [
        "toolbox.register(\"mate\", tools.cxTwoPoint)\n",
        "\n",
        "toolbox.register(\"mutate\", tools.mutUniformInt, low = 0, up = 7, indpb=0.1)\n",
        "\n",
        "toolbox.register(\"select\", tools.selTournament, tournsize=3)"
      ]
    },
    {
      "cell_type": "code",
      "execution_count": null,
      "metadata": {
        "id": "R1jlpMTNVOUn"
      },
      "outputs": [],
      "source": [
        "stats = tools.Statistics(key=lambda ind: ind.fitness.values)\n",
        "\n",
        "stats.register(\"avg\", np.mean)\n",
        "stats.register(\"min\", np.min)"
      ]
    },
    {
      "cell_type": "markdown",
      "metadata": {
        "id": "pyRth-sHVOUq"
      },
      "source": [
        "### 10 pts:  Writer your code in the cell below to create the first generation, the hall of fame, and launch the genetic algorithm: eaSimple().   How many individuals you want to have for each generation and how many generations you want GA to go thourgh for each run?     Vary those two parameters to see the change. "
      ]
    },
    {
      "cell_type": "code",
      "execution_count": null,
      "metadata": {
        "id": "3aJJcDUVVOUq",
        "colab": {
          "base_uri": "https://localhost:8080/"
        },
        "outputId": "1a9cc909-8e40-4b83-d3ee-b55f8a3c593c"
      },
      "outputs": [
        {
          "output_type": "stream",
          "name": "stdout",
          "text": [
            "gen\tnevals\tavg \tmin\n",
            "0  \t100   \t7.84\t3  \n",
            "1  \t45    \t6.21\t2  \n",
            "2  \t63    \t5.37\t2  \n",
            "3  \t53    \t4.82\t2  \n",
            "4  \t56    \t4.36\t2  \n",
            "5  \t62    \t3.74\t2  \n",
            "6  \t70    \t3.44\t2  \n",
            "7  \t62    \t3.09\t2  \n",
            "8  \t58    \t2.22\t2  \n",
            "9  \t58    \t2.25\t1  \n",
            "10 \t44    \t2.2 \t1  \n",
            "gen\tnevals\tavg \tmin\n",
            "0  \t100   \t8.23\t3  \n",
            "1  \t64    \t6.92\t3  \n",
            "2  \t58    \t5.91\t3  \n",
            "3  \t59    \t5.3 \t2  \n",
            "4  \t55    \t5.05\t2  \n",
            "5  \t62    \t4.47\t2  \n",
            "6  \t64    \t4.18\t2  \n",
            "7  \t57    \t3.95\t2  \n",
            "8  \t56    \t3.65\t2  \n",
            "9  \t58    \t3.22\t2  \n",
            "10 \t68    \t3.01\t2  \n",
            "11 \t62    \t2.92\t2  \n",
            "12 \t62    \t2.73\t2  \n",
            "13 \t55    \t2.55\t2  \n",
            "14 \t61    \t2.59\t2  \n",
            "15 \t58    \t2.12\t2  \n",
            "16 \t55    \t2.33\t2  \n",
            "17 \t66    \t2.41\t2  \n",
            "18 \t66    \t2.32\t2  \n",
            "19 \t64    \t2.19\t2  \n",
            "20 \t58    \t2.33\t2  \n",
            "21 \t56    \t2.21\t2  \n",
            "22 \t56    \t2.28\t2  \n",
            "23 \t70    \t2.25\t2  \n",
            "24 \t60    \t2.2 \t2  \n",
            "25 \t61    \t2.43\t2  \n",
            "26 \t63    \t2.23\t2  \n",
            "27 \t57    \t2.35\t2  \n",
            "28 \t73    \t2.18\t2  \n",
            "29 \t65    \t2.23\t2  \n",
            "30 \t59    \t2.3 \t2  \n",
            "31 \t57    \t2.21\t2  \n",
            "32 \t51    \t2.08\t2  \n",
            "33 \t65    \t2.14\t2  \n",
            "34 \t55    \t2.26\t2  \n",
            "35 \t58    \t2.19\t2  \n",
            "36 \t52    \t2.2 \t2  \n",
            "37 \t57    \t2.18\t2  \n",
            "38 \t57    \t2.15\t2  \n",
            "39 \t54    \t2.27\t2  \n",
            "40 \t66    \t2.23\t2  \n",
            "41 \t50    \t2.31\t2  \n",
            "42 \t69    \t2.56\t2  \n",
            "43 \t70    \t2.23\t2  \n",
            "44 \t54    \t2.15\t2  \n",
            "45 \t50    \t2.17\t2  \n",
            "46 \t62    \t2.25\t2  \n",
            "47 \t68    \t2.15\t2  \n",
            "48 \t61    \t2.27\t2  \n",
            "49 \t73    \t2.15\t2  \n",
            "50 \t54    \t2.18\t2  \n",
            "gen\tnevals\tavg \tmin\n",
            "0  \t100   \t8.07\t3  \n",
            "1  \t69    \t6.28\t1  \n",
            "2  \t59    \t5.58\t1  \n",
            "3  \t60    \t4.61\t1  \n",
            "4  \t67    \t4.63\t1  \n",
            "5  \t65    \t3.97\t1  \n",
            "6  \t73    \t3.57\t1  \n",
            "7  \t52    \t2.77\t1  \n",
            "8  \t55    \t2.31\t1  \n",
            "9  \t48    \t1.87\t1  \n",
            "10 \t58    \t1.51\t1  \n",
            "11 \t59    \t1.34\t1  \n",
            "12 \t57    \t1.15\t1  \n",
            "13 \t60    \t1.15\t1  \n",
            "14 \t74    \t1.17\t1  \n",
            "15 \t58    \t1.09\t1  \n",
            "16 \t73    \t1.23\t1  \n",
            "17 \t69    \t1.21\t1  \n",
            "18 \t61    \t1.11\t1  \n",
            "19 \t68    \t1.37\t1  \n",
            "20 \t65    \t1.18\t1  \n",
            "21 \t59    \t1.42\t1  \n",
            "22 \t53    \t1.27\t1  \n",
            "23 \t60    \t1.19\t1  \n",
            "24 \t59    \t1.45\t1  \n",
            "25 \t62    \t1.32\t1  \n",
            "26 \t55    \t1.49\t1  \n",
            "27 \t59    \t1.43\t1  \n",
            "28 \t64    \t1.32\t1  \n",
            "29 \t54    \t1.25\t1  \n",
            "30 \t61    \t1.31\t1  \n",
            "31 \t60    \t1.08\t1  \n",
            "32 \t56    \t1.2 \t1  \n",
            "33 \t47    \t1.21\t1  \n",
            "34 \t43    \t1.32\t1  \n",
            "35 \t47    \t1.12\t1  \n",
            "36 \t69    \t1.35\t1  \n",
            "37 \t62    \t1.3 \t1  \n",
            "38 \t59    \t1.15\t1  \n",
            "39 \t66    \t1.44\t1  \n",
            "40 \t53    \t1.28\t1  \n",
            "41 \t57    \t1.21\t1  \n",
            "42 \t59    \t1.2 \t1  \n",
            "43 \t60    \t1.06\t1  \n",
            "44 \t58    \t1.22\t1  \n",
            "45 \t61    \t1.21\t1  \n",
            "46 \t51    \t1.15\t1  \n",
            "47 \t51    \t1.28\t1  \n",
            "48 \t57    \t1.31\t1  \n",
            "49 \t69    \t1.28\t1  \n",
            "50 \t62    \t1.11\t1  \n",
            "51 \t63    \t1.23\t1  \n",
            "52 \t58    \t1.12\t1  \n",
            "53 \t50    \t1.44\t1  \n",
            "54 \t62    \t1.28\t1  \n",
            "55 \t52    \t1.2 \t1  \n",
            "56 \t51    \t1.37\t1  \n",
            "57 \t64    \t1.31\t1  \n",
            "58 \t61    \t1.31\t1  \n",
            "59 \t47    \t1.26\t1  \n",
            "60 \t60    \t1.29\t1  \n",
            "61 \t75    \t1.14\t1  \n",
            "62 \t59    \t1.22\t1  \n",
            "63 \t50    \t1.27\t1  \n",
            "64 \t59    \t1.18\t1  \n",
            "65 \t68    \t1.15\t1  \n",
            "66 \t60    \t1.25\t1  \n",
            "67 \t43    \t1.27\t1  \n",
            "68 \t58    \t1.22\t1  \n",
            "69 \t64    \t1.28\t1  \n",
            "70 \t69    \t1.12\t1  \n",
            "71 \t62    \t1.19\t1  \n",
            "72 \t65    \t1.23\t1  \n",
            "73 \t73    \t1.44\t1  \n",
            "74 \t57    \t1.19\t1  \n",
            "75 \t68    \t1.25\t1  \n",
            "76 \t62    \t1.15\t1  \n",
            "77 \t64    \t1.2 \t1  \n",
            "78 \t72    \t1.24\t1  \n",
            "79 \t56    \t1.28\t1  \n",
            "80 \t52    \t1.26\t1  \n",
            "81 \t73    \t1.16\t1  \n",
            "82 \t64    \t1.42\t1  \n",
            "83 \t61    \t1.3 \t1  \n",
            "84 \t63    \t1.33\t1  \n",
            "85 \t70    \t1.28\t1  \n",
            "86 \t62    \t1.19\t1  \n",
            "87 \t59    \t1.16\t1  \n",
            "88 \t66    \t1.34\t1  \n",
            "89 \t60    \t1.27\t1  \n",
            "90 \t77    \t1.35\t1  \n",
            "91 \t67    \t1.27\t1  \n",
            "92 \t60    \t1.34\t1  \n",
            "93 \t57    \t1.13\t1  \n",
            "94 \t56    \t1.13\t1  \n",
            "95 \t72    \t1.27\t1  \n",
            "96 \t59    \t1.4 \t1  \n",
            "97 \t70    \t1.33\t1  \n",
            "98 \t53    \t1.3 \t1  \n",
            "99 \t42    \t1.27\t1  \n",
            "100\t55    \t1.24\t1  \n",
            "gen\tnevals\tavg  \tmin\n",
            "0  \t500   \t7.986\t2  \n",
            "1  \t331   \t6.51 \t2  \n",
            "2  \t293   \t5.772\t2  \n",
            "3  \t316   \t5.272\t1  \n",
            "4  \t316   \t4.958\t1  \n",
            "5  \t299   \t4.542\t1  \n",
            "6  \t310   \t4.22 \t1  \n",
            "7  \t282   \t3.882\t0  \n",
            "8  \t288   \t3.516\t0  \n",
            "9  \t271   \t3.394\t1  \n",
            "10 \t313   \t3.176\t1  \n",
            "gen\tnevals\tavg  \tmin\n",
            "0  \t500   \t7.912\t2  \n",
            "1  \t284   \t6.274\t2  \n",
            "2  \t286   \t5.574\t2  \n",
            "3  \t277   \t5.022\t2  \n",
            "4  \t314   \t4.69 \t2  \n",
            "5  \t296   \t4.45 \t2  \n",
            "6  \t325   \t4.258\t2  \n",
            "7  \t270   \t3.974\t1  \n",
            "8  \t304   \t3.826\t1  \n",
            "9  \t286   \t3.546\t1  \n",
            "10 \t316   \t3.26 \t1  \n",
            "11 \t298   \t3.038\t1  \n",
            "12 \t291   \t3.036\t1  \n",
            "13 \t320   \t2.944\t1  \n",
            "14 \t310   \t2.726\t1  \n",
            "15 \t291   \t2.248\t1  \n",
            "16 \t319   \t1.9  \t1  \n",
            "17 \t312   \t1.648\t1  \n",
            "18 \t316   \t1.476\t1  \n",
            "19 \t299   \t1.472\t1  \n",
            "20 \t313   \t1.508\t1  \n",
            "21 \t310   \t1.416\t1  \n",
            "22 \t322   \t1.466\t1  \n",
            "23 \t269   \t1.314\t1  \n",
            "24 \t294   \t1.332\t1  \n",
            "25 \t319   \t1.326\t1  \n",
            "26 \t289   \t1.33 \t1  \n",
            "27 \t309   \t1.31 \t1  \n",
            "28 \t258   \t1.196\t1  \n",
            "29 \t308   \t1.204\t1  \n",
            "30 \t297   \t1.26 \t1  \n",
            "31 \t302   \t1.274\t1  \n",
            "32 \t311   \t1.224\t1  \n",
            "33 \t296   \t1.298\t1  \n",
            "34 \t337   \t1.286\t1  \n",
            "35 \t288   \t1.184\t1  \n",
            "36 \t301   \t1.21 \t1  \n",
            "37 \t286   \t1.2  \t1  \n",
            "38 \t310   \t1.31 \t1  \n",
            "39 \t305   \t1.356\t1  \n",
            "40 \t298   \t1.338\t1  \n",
            "41 \t303   \t1.262\t1  \n",
            "42 \t305   \t1.24 \t1  \n",
            "43 \t305   \t1.294\t1  \n",
            "44 \t306   \t1.258\t1  \n",
            "45 \t289   \t1.216\t1  \n",
            "46 \t288   \t1.168\t1  \n",
            "47 \t311   \t1.312\t1  \n",
            "48 \t303   \t1.246\t1  \n",
            "49 \t297   \t1.274\t1  \n",
            "50 \t306   \t1.272\t1  \n",
            "gen\tnevals\tavg \tmin\n",
            "0  \t500   \t7.78\t1  \n",
            "1  \t285   \t6.414\t1  \n",
            "2  \t313   \t5.674\t1  \n",
            "3  \t312   \t5.152\t1  \n",
            "4  \t300   \t4.812\t1  \n",
            "5  \t332   \t4.43 \t1  \n",
            "6  \t280   \t3.92 \t1  \n",
            "7  \t293   \t3.524\t0  \n",
            "8  \t300   \t3.024\t0  \n",
            "9  \t315   \t2.246\t0  \n",
            "10 \t279   \t1.438\t0  \n",
            "11 \t310   \t1.256\t0  \n",
            "12 \t305   \t0.992\t0  \n",
            "13 \t293   \t0.69 \t0  \n",
            "14 \t317   \t0.36 \t0  \n",
            "15 \t306   \t0.224\t0  \n",
            "16 \t298   \t0.322\t0  \n",
            "17 \t295   \t0.354\t0  \n",
            "18 \t298   \t0.366\t0  \n",
            "19 \t309   \t0.314\t0  \n",
            "20 \t267   \t0.252\t0  \n",
            "21 \t312   \t0.29 \t0  \n",
            "22 \t302   \t0.344\t0  \n",
            "23 \t299   \t0.254\t0  \n",
            "24 \t313   \t0.38 \t0  \n",
            "25 \t290   \t0.304\t0  \n",
            "26 \t332   \t0.252\t0  \n",
            "27 \t271   \t0.308\t0  \n",
            "28 \t293   \t0.276\t0  \n",
            "29 \t299   \t0.248\t0  \n",
            "30 \t324   \t0.294\t0  \n",
            "31 \t294   \t0.298\t0  \n",
            "32 \t292   \t0.27 \t0  \n",
            "33 \t310   \t0.272\t0  \n",
            "34 \t313   \t0.364\t0  \n",
            "35 \t305   \t0.26 \t0  \n",
            "36 \t308   \t0.388\t0  \n",
            "37 \t303   \t0.22 \t0  \n",
            "38 \t303   \t0.258\t0  \n",
            "39 \t278   \t0.368\t0  \n",
            "40 \t301   \t0.284\t0  \n",
            "41 \t339   \t0.298\t0  \n",
            "42 \t264   \t0.288\t0  \n",
            "43 \t291   \t0.252\t0  \n",
            "44 \t293   \t0.336\t0  \n",
            "45 \t283   \t0.242\t0  \n",
            "46 \t301   \t0.308\t0  \n",
            "47 \t298   \t0.256\t0  \n",
            "48 \t284   \t0.226\t0  \n",
            "49 \t313   \t0.308\t0  \n",
            "50 \t298   \t0.262\t0  \n",
            "51 \t265   \t0.256\t0  \n",
            "52 \t313   \t0.332\t0  \n",
            "53 \t300   \t0.288\t0  \n",
            "54 \t301   \t0.266\t0  \n",
            "55 \t314   \t0.302\t0  \n",
            "56 \t289   \t0.306\t0  \n",
            "57 \t306   \t0.268\t0  \n",
            "58 \t323   \t0.302\t0  \n",
            "59 \t290   \t0.296\t0  \n",
            "60 \t303   \t0.32 \t0  \n",
            "61 \t302   \t0.35 \t0  \n",
            "62 \t302   \t0.26 \t0  \n",
            "63 \t300   \t0.296\t0  \n",
            "64 \t307   \t0.276\t0  \n",
            "65 \t313   \t0.406\t0  \n",
            "66 \t293   \t0.308\t0  \n",
            "67 \t308   \t0.322\t0  \n",
            "68 \t305   \t0.318\t0  \n",
            "69 \t292   \t0.284\t0  \n",
            "70 \t304   \t0.368\t0  \n",
            "71 \t292   \t0.312\t0  \n",
            "72 \t294   \t0.304\t0  \n",
            "73 \t301   \t0.312\t0  \n",
            "74 \t299   \t0.346\t0  \n",
            "75 \t268   \t0.186\t0  \n",
            "76 \t310   \t0.324\t0  \n",
            "77 \t298   \t0.362\t0  \n",
            "78 \t305   \t0.25 \t0  \n",
            "79 \t313   \t0.276\t0  \n",
            "80 \t310   \t0.366\t0  \n",
            "81 \t287   \t0.304\t0  \n",
            "82 \t279   \t0.216\t0  \n",
            "83 \t292   \t0.246\t0  \n",
            "84 \t314   \t0.242\t0  \n",
            "85 \t322   \t0.384\t0  \n",
            "86 \t312   \t0.29 \t0  \n",
            "87 \t290   \t0.314\t0  \n",
            "88 \t287   \t0.364\t0  \n",
            "89 \t309   \t0.268\t0  \n",
            "90 \t308   \t0.268\t0  \n",
            "91 \t314   \t0.312\t0  \n",
            "92 \t314   \t0.3  \t0  \n",
            "93 \t321   \t0.33 \t0  \n",
            "94 \t315   \t0.326\t0  \n",
            "95 \t297   \t0.302\t0  \n",
            "96 \t302   \t0.26 \t0  \n",
            "97 \t304   \t0.32 \t0  \n",
            "98 \t280   \t0.28 \t0  \n",
            "99 \t288   \t0.266\t0  \n",
            "100\t306   \t0.282\t0  \n",
            "gen\tnevals\tavg  \tmin\n",
            "0  \t1000  \t7.826\t2  \n",
            "1  \t609   \t6.459\t2  \n",
            "2  \t582   \t5.705\t2  \n",
            "3  \t611   \t5.123\t1  \n",
            "4  \t599   \t4.664\t1  \n",
            "5  \t587   \t4.46 \t1  \n",
            "6  \t586   \t4.221\t1  \n",
            "7  \t629   \t4.047\t1  \n",
            "8  \t583   \t3.787\t1  \n",
            "9  \t611   \t3.628\t1  \n",
            "10 \t595   \t3.394\t0  \n",
            "gen\tnevals\tavg  \tmin\n",
            "0  \t1000  \t7.847\t2  \n",
            "1  \t615   \t6.406\t1  \n",
            "2  \t608   \t5.652\t2  \n",
            "3  \t580   \t5.226\t2  \n",
            "4  \t593   \t4.859\t1  \n",
            "5  \t586   \t4.629\t1  \n",
            "6  \t563   \t4.237\t1  \n",
            "7  \t595   \t4.02 \t1  \n",
            "8  \t587   \t3.845\t1  \n",
            "9  \t606   \t3.763\t0  \n",
            "10 \t607   \t3.614\t0  \n",
            "11 \t578   \t3.293\t0  \n",
            "12 \t603   \t3.263\t0  \n",
            "13 \t583   \t2.987\t0  \n",
            "14 \t581   \t2.766\t0  \n",
            "15 \t611   \t2.516\t0  \n",
            "16 \t610   \t2.261\t0  \n",
            "17 \t616   \t1.954\t0  \n",
            "18 \t611   \t1.804\t0  \n",
            "19 \t578   \t1.635\t0  \n",
            "20 \t586   \t1.675\t0  \n",
            "21 \t586   \t1.663\t0  \n",
            "22 \t612   \t1.626\t0  \n",
            "23 \t614   \t1.472\t0  \n",
            "24 \t608   \t1.275\t0  \n",
            "25 \t598   \t1.118\t0  \n",
            "26 \t571   \t0.93 \t0  \n",
            "27 \t589   \t0.936\t0  \n",
            "28 \t604   \t0.859\t0  \n",
            "29 \t615   \t0.63 \t0  \n",
            "30 \t595   \t0.438\t0  \n",
            "31 \t598   \t0.342\t0  \n",
            "32 \t587   \t0.366\t0  \n",
            "33 \t578   \t0.292\t0  \n",
            "34 \t638   \t0.392\t0  \n",
            "35 \t608   \t0.359\t0  \n",
            "36 \t598   \t0.277\t0  \n",
            "37 \t597   \t0.263\t0  \n",
            "38 \t600   \t0.274\t0  \n",
            "39 \t597   \t0.278\t0  \n",
            "40 \t557   \t0.303\t0  \n",
            "41 \t584   \t0.25 \t0  \n",
            "42 \t611   \t0.323\t0  \n",
            "43 \t582   \t0.333\t0  \n",
            "44 \t581   \t0.284\t0  \n",
            "45 \t621   \t0.3  \t0  \n",
            "46 \t615   \t0.275\t0  \n",
            "47 \t593   \t0.29 \t0  \n",
            "48 \t602   \t0.308\t0  \n",
            "49 \t587   \t0.296\t0  \n",
            "50 \t591   \t0.273\t0  \n",
            "gen\tnevals\tavg \tmin\n",
            "0  \t1000  \t7.94\t3  \n",
            "1  \t607   \t6.44\t2  \n",
            "2  \t596   \t5.654\t2  \n",
            "3  \t626   \t5.262\t2  \n",
            "4  \t620   \t4.956\t2  \n",
            "5  \t637   \t4.826\t2  \n",
            "6  \t630   \t4.547\t1  \n",
            "7  \t625   \t4.342\t1  \n",
            "8  \t583   \t3.931\t1  \n",
            "9  \t590   \t3.685\t1  \n",
            "10 \t606   \t3.5  \t1  \n",
            "11 \t581   \t3.328\t0  \n",
            "12 \t605   \t3.211\t0  \n",
            "13 \t556   \t2.914\t0  \n",
            "14 \t584   \t2.805\t0  \n",
            "15 \t589   \t2.609\t0  \n",
            "16 \t622   \t2.646\t0  \n",
            "17 \t597   \t2.422\t0  \n",
            "18 \t609   \t2.37 \t0  \n",
            "19 \t628   \t2.267\t0  \n",
            "20 \t587   \t2.04 \t0  \n",
            "21 \t549   \t1.829\t0  \n",
            "22 \t638   \t2.035\t0  \n",
            "23 \t650   \t1.755\t0  \n",
            "24 \t607   \t1.587\t0  \n",
            "25 \t606   \t1.293\t0  \n",
            "26 \t616   \t0.637\t0  \n",
            "27 \t600   \t0.407\t0  \n",
            "28 \t606   \t0.272\t0  \n",
            "29 \t595   \t0.338\t0  \n",
            "30 \t584   \t0.33 \t0  \n",
            "31 \t599   \t0.273\t0  \n",
            "32 \t610   \t0.265\t0  \n",
            "33 \t627   \t0.31 \t0  \n",
            "34 \t607   \t0.268\t0  \n",
            "35 \t637   \t0.317\t0  \n",
            "36 \t572   \t0.254\t0  \n",
            "37 \t620   \t0.294\t0  \n",
            "38 \t632   \t0.321\t0  \n",
            "39 \t604   \t0.281\t0  \n",
            "40 \t571   \t0.285\t0  \n",
            "41 \t642   \t0.354\t0  \n",
            "42 \t606   \t0.315\t0  \n",
            "43 \t593   \t0.289\t0  \n",
            "44 \t641   \t0.303\t0  \n",
            "45 \t641   \t0.298\t0  \n",
            "46 \t553   \t0.268\t0  \n",
            "47 \t604   \t0.249\t0  \n",
            "48 \t604   \t0.274\t0  \n",
            "49 \t637   \t0.314\t0  \n",
            "50 \t619   \t0.33 \t0  \n",
            "51 \t646   \t0.302\t0  \n",
            "52 \t561   \t0.238\t0  \n",
            "53 \t595   \t0.297\t0  \n",
            "54 \t612   \t0.289\t0  \n",
            "55 \t602   \t0.302\t0  \n",
            "56 \t625   \t0.285\t0  \n",
            "57 \t584   \t0.267\t0  \n",
            "58 \t590   \t0.291\t0  \n",
            "59 \t609   \t0.301\t0  \n",
            "60 \t626   \t0.28 \t0  \n",
            "61 \t592   \t0.285\t0  \n",
            "62 \t599   \t0.293\t0  \n",
            "63 \t590   \t0.299\t0  \n",
            "64 \t604   \t0.226\t0  \n",
            "65 \t588   \t0.273\t0  \n",
            "66 \t597   \t0.308\t0  \n",
            "67 \t613   \t0.302\t0  \n",
            "68 \t596   \t0.373\t0  \n",
            "69 \t593   \t0.289\t0  \n",
            "70 \t603   \t0.256\t0  \n",
            "71 \t636   \t0.314\t0  \n",
            "72 \t586   \t0.331\t0  \n",
            "73 \t633   \t0.238\t0  \n",
            "74 \t606   \t0.233\t0  \n",
            "75 \t590   \t0.312\t0  \n",
            "76 \t581   \t0.291\t0  \n",
            "77 \t651   \t0.29 \t0  \n",
            "78 \t608   \t0.356\t0  \n",
            "79 \t601   \t0.303\t0  \n",
            "80 \t598   \t0.269\t0  \n",
            "81 \t619   \t0.325\t0  \n",
            "82 \t590   \t0.262\t0  \n",
            "83 \t617   \t0.307\t0  \n",
            "84 \t600   \t0.346\t0  \n",
            "85 \t610   \t0.276\t0  \n",
            "86 \t602   \t0.315\t0  \n",
            "87 \t583   \t0.295\t0  \n",
            "88 \t586   \t0.321\t0  \n",
            "89 \t567   \t0.3  \t0  \n",
            "90 \t628   \t0.328\t0  \n",
            "91 \t625   \t0.314\t0  \n",
            "92 \t640   \t0.239\t0  \n",
            "93 \t595   \t0.281\t0  \n",
            "94 \t632   \t0.285\t0  \n",
            "95 \t623   \t0.305\t0  \n",
            "96 \t613   \t0.331\t0  \n",
            "97 \t608   \t0.301\t0  \n",
            "98 \t607   \t0.29 \t0  \n",
            "99 \t604   \t0.248\t0  \n",
            "100\t593   \t0.309\t0  \n"
          ]
        }
      ],
      "source": [
        "#Defining Parameters\n",
        "# n = 50          #number of nevals. (nevals: the number of evalutions for each generation)\n",
        "# ngen = 10       #number of generations accomplished\n",
        "# maxsize = 1     #maximum hall of fame size\n",
        "\n",
        "nList = [100, 500, 1000]      #number of generations/neavels\n",
        "ngenList = [10, 50, 100]   #number of generations that GA will go through.\n",
        "                #cxpb: a probability of cross-overing two individuals\n",
        "                #mutpb: a probability of mutating each individual\n",
        "\n",
        "def GA(n, ngen):\n",
        "  pop = toolbox.population(n)\n",
        "  hof = tools.HallOfFame(maxsize=1)\n",
        "  pop, log = algorithms.eaSimple(pop, toolbox, cxpb=0.5, mutpb=0.2, ngen=ngen, \n",
        "                                    stats=stats, halloffame=hof, verbose=True)\n",
        "  return pop, log\n",
        "\n",
        "results = []\n",
        "for n in nList:\n",
        "  for ngen in ngenList:\n",
        "    pop, log = GA(n, ngen)\n",
        "    results.append([pop, log, n, ngen])"
      ]
    },
    {
      "cell_type": "markdown",
      "metadata": {
        "id": "xrJfr0ePVOUs"
      },
      "source": [
        "### 5 pts:  Plot the \"avg\" and \"min\" for each generation"
      ]
    },
    {
      "cell_type": "code",
      "execution_count": null,
      "metadata": {
        "id": "LJyAUq4WVOUs",
        "colab": {
          "base_uri": "https://localhost:8080/",
          "height": 1000
        },
        "outputId": "a41e7a14-3a42-458d-e7f4-3dd6057f5fdf"
      },
      "outputs": [
        {
          "output_type": "display_data",
          "data": {
            "text/plain": [
              "<Figure size 432x288 with 1 Axes>"
            ],
            "image/png": "[encoded data removed]"
          },
          "metadata": {
            "needs_background": "light"
          }
        },
        {
          "output_type": "display_data",
          "data": {
            "text/plain": [
              "<Figure size 432x288 with 1 Axes>"
            ],
            "image/png": "[encoded data removed]"
          },
          "metadata": {
            "needs_background": "light"
          }
        },
        {
          "output_type": "display_data",
          "data": {
            "text/plain": [
              "<Figure size 432x288 with 1 Axes>"
            ],
            "image/png": "[encoded data removed]"
          },
          "metadata": {
            "needs_background": "light"
          }
        },
        {
          "output_type": "display_data",
          "data": {
            "text/plain": [
              "<Figure size 432x288 with 1 Axes>"
            ],
            "image/png": "[encoded data removed]"
          },
          "metadata": {
            "needs_background": "light"
          }
        },
        {
          "output_type": "display_data",
          "data": {
            "text/plain": [
              "<Figure size 432x288 with 1 Axes>"
            ],
            "image/png": "[encoded data removed]"
          },
          "metadata": {
            "needs_background": "light"
          }
        },
        {
          "output_type": "display_data",
          "data": {
            "text/plain": [
              "<Figure size 432x288 with 1 Axes>"
            ],
            "image/png": "[encoded data removed]"
          },
          "metadata": {
            "needs_background": "light"
          }
        },
        {
          "output_type": "display_data",
          "data": {
            "text/plain": [
              "<Figure size 432x288 with 1 Axes>"
            ],
            "image/png": "[encoded data removed]"
          },
          "metadata": {
            "needs_background": "light"
          }
        },
        {
          "output_type": "display_data",
          "data": {
            "text/plain": [
              "<Figure size 432x288 with 1 Axes>"
            ],
            "image/png": "[encoded data removed]"
          },
          "metadata": {
            "needs_background": "light"
          }
        },
        {
          "output_type": "display_data",
          "data": {
            "text/plain": [
              "<Figure size 432x288 with 1 Axes>"
            ],
            "image/png": "[encoded data removed]"
          },
          "metadata": {
            "needs_background": "light"
          }
        }
      ],
      "source": [
        "# Plot the \"avg\" and \"min\" for each generation\n",
        "\n",
        "import matplotlib.pyplot as plt\n",
        "%matplotlib inline  \n",
        "\n",
        "def plotResults(log, n, ngen):\n",
        "  gen, avg, min_, max_ = log.select(\"gen\", \"avg\", \"min\", \"max\")\n",
        "\n",
        "  plt.plot(gen, avg, label=\"average\")\n",
        "  plt.plot(gen, min_, label=\"minimum\")\n",
        "  plt.plot(gen, max_, label=\"maximum\")\n",
        "  plt.xlabel(\"Generation\")\n",
        "  plt.ylabel(\"Fitness\")\n",
        "  plt.legend(loc=\"lower right\")\n",
        "  plt.show()\n",
        "\n",
        "for result in results:\n",
        "  plotResults(result[1], result[2], result[3])"
      ]
    },
    {
      "cell_type": "markdown",
      "metadata": {
        "id": "ry6HXqIMVOUv"
      },
      "source": [
        "### 5 pts:  Print out the best individual found and its fitness value.  Show the best individual as chessboard"
      ]
    },
    {
      "cell_type": "code",
      "execution_count": null,
      "metadata": {
        "id": "PkC9uOqCVOUv",
        "colab": {
          "base_uri": "https://localhost:8080/"
        },
        "outputId": "94b2a0d3-0f8c-40b4-d85f-6a144d17e680"
      },
      "outputs": [
        {
          "output_type": "stream",
          "name": "stdout",
          "text": [
            "-|-|-|-|X|-|-|-|\n",
            "----------------\n",
            "-|-|X|-|-|-|-|-|\n",
            "----------------\n",
            "X|-|-|-|-|-|-|-|\n",
            "----------------\n",
            "-|-|-|-|-|X|-|-|\n",
            "----------------\n",
            "-|-|-|-|-|-|-|X|\n",
            "----------------\n",
            "-|X|-|-|-|-|-|-|\n",
            "----------------\n",
            "-|-|-|X|-|-|-|-|\n",
            "----------------\n",
            "-|-|-|-|-|-|X|-|\n",
            "----------------\n",
            "Fitness Value:  (0,)\n"
          ]
        }
      ],
      "source": [
        "bestIndividual = tools.selBest(pop, k=1)[0]\n",
        "show_grid(bestIndividual)\n",
        "print(\"Fitness Value: \", toolbox.evaluate(bestIndividual))"
      ]
    },
    {
      "cell_type": "markdown",
      "metadata": {
        "id": "qhba2jQ1VOUw"
      },
      "source": [
        "### Reflection:  Which board representaion is better in terms of ease of coding and final solution quality?   Try different parameter values for mutation and crossover and vary the number of generations and the population size.  Write your findings in the report.        "
      ]
    }
  ],
  "metadata": {
    "colab": {
      "collapsed_sections": [],
      "provenance": [],
      "toc_visible": true
    },
    "kernelspec": {
      "display_name": "Python 3",
      "language": "python",
      "name": "python3"
    },
    "language_info": {
      "codemirror_mode": {
        "name": "ipython",
        "version": 3
      },
      "file_extension": ".py",
      "mimetype": "text/x-python",
      "name": "python",
      "nbconvert_exporter": "python",
      "pygments_lexer": "ipython3",
      "version": "3.8.8"
    }
  },
  "nbformat": 4,
  "nbformat_minor": 0
}